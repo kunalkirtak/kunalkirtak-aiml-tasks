{
  "nbformat": 4,
  "nbformat_minor": 0,
  "metadata": {
    "colab": {
      "provenance": []
    },
    "kernelspec": {
      "name": "python3",
      "display_name": "Python 3"
    },
    "language_info": {
      "name": "python"
    }
  },
  "cells": [
    {
      "cell_type": "markdown",
      "source": [
        "# **Task 8**"
      ],
      "metadata": {
        "id": "SEI3Jrbszfsj"
      }
    },
    {
      "cell_type": "markdown",
      "source": [
        "Create an AIML category that responds to the input \"How are you?\" with a variety of responses, such as:\n",
        "\n",
        "1. \"I'm doing well, thank you!\"\n",
        "2. \"I'm great, thanks for asking!\"\n",
        "3. \"I'm good, how about you?\""
      ],
      "metadata": {
        "id": "NiZvWH7rzlTH"
      }
    },
    {
      "cell_type": "code",
      "execution_count": null,
      "metadata": {
        "colab": {
          "base_uri": "https://localhost:8080/"
        },
        "id": "A4ay-3BwzW87",
        "outputId": "be1781ad-43d4-429f-a3ea-aa6db49b9d64"
      },
      "outputs": [
        {
          "output_type": "stream",
          "name": "stdout",
          "text": [
            "Collecting python-aiml\n",
            "  Downloading python-aiml-0.9.3.zip (2.1 MB)\n",
            "\u001b[2K     \u001b[90m━━━━━━━━━━━━━━━━━━━━━━━━━━━━━━━━━━━━━━━━\u001b[0m \u001b[32m2.1/2.1 MB\u001b[0m \u001b[31m21.6 MB/s\u001b[0m eta \u001b[36m0:00:00\u001b[0m\n",
            "\u001b[?25h  Preparing metadata (setup.py) ... \u001b[?25l\u001b[?25hdone\n",
            "Requirement already satisfied: setuptools in /usr/local/lib/python3.11/dist-packages (from python-aiml) (75.2.0)\n",
            "Building wheels for collected packages: python-aiml\n",
            "  Building wheel for python-aiml (setup.py) ... \u001b[?25l\u001b[?25hdone\n",
            "  Created wheel for python-aiml: filename=python_aiml-0.9.3-py3-none-any.whl size=2122485 sha256=13d2642952041da5351c676bbce41d6983a64ad0bdb955b831ed068e4cba425d\n",
            "  Stored in directory: /root/.cache/pip/wheels/de/c3/2d/d1b50ad20fde9a9741b27fb7816c0e67d4254048a6c592a84e\n",
            "Successfully built python-aiml\n",
            "Installing collected packages: python-aiml\n",
            "Successfully installed python-aiml-0.9.3\n"
          ]
        }
      ],
      "source": [
        "!pip install python-aiml\n"
      ]
    },
    {
      "cell_type": "code",
      "source": [
        "aiml_code = '''<?xml version=\"1.0\" encoding=\"UTF-8\"?>\n",
        "<aiml version=\"1.0.1\" encoding=\"UTF-8\">\n",
        "  <category>\n",
        "    <pattern>HOW ARE YOU</pattern>\n",
        "    <template>\n",
        "      <random>\n",
        "        <li>I'm doing well, thank you!</li>\n",
        "        <li>I'm great, thanks for asking!</li>\n",
        "        <li>I'm good, how about you?</li>\n",
        "      </random>\n",
        "    </template>\n",
        "  </category>\n",
        "</aiml>\n",
        "'''\n",
        "\n",
        "with open(\"bot.aiml\", \"w\") as f:\n",
        "    f.write(aiml_code)\n"
      ],
      "metadata": {
        "id": "BCTfrgbHzoLU"
      },
      "execution_count": null,
      "outputs": []
    },
    {
      "cell_type": "code",
      "source": [
        "import aiml\n",
        "import os\n",
        "\n",
        "# Create the kernel\n",
        "kernel = aiml.Kernel()\n",
        "\n",
        "# Load the AIML file\n",
        "kernel.learn(\"bot.aiml\")\n",
        "\n",
        "# Test the bot\n",
        "response = kernel.respond(\"How are you?\")\n",
        "print(\"Bot:\", response)\n"
      ],
      "metadata": {
        "colab": {
          "base_uri": "https://localhost:8080/"
        },
        "id": "pN0BQO3XzqwT",
        "outputId": "37727e40-60b3-40dd-ce9e-ac906de323b1"
      },
      "execution_count": null,
      "outputs": [
        {
          "output_type": "stream",
          "name": "stdout",
          "text": [
            "Loading bot.aiml...done (0.00 seconds)\n",
            "Bot: I'm doing well, thank you!\n"
          ]
        }
      ]
    },
    {
      "cell_type": "code",
      "source": [
        "import aiml\n",
        "import os\n",
        "\n",
        "# Create the kernel\n",
        "kernel = aiml.Kernel()\n",
        "\n",
        "# Load the AIML file\n",
        "kernel.learn(\"bot.aiml\")\n",
        "\n",
        "# Test the bot\n",
        "response = kernel.respond(\"How are you?\")\n",
        "print(\"Bot:\", response)\n"
      ],
      "metadata": {
        "colab": {
          "base_uri": "https://localhost:8080/"
        },
        "id": "rk1xoRvBzsor",
        "outputId": "7c73e34f-71ff-449f-ee72-f9ac1760092b"
      },
      "execution_count": null,
      "outputs": [
        {
          "output_type": "stream",
          "name": "stdout",
          "text": [
            "Loading bot.aiml...done (0.00 seconds)\n",
            "Bot: I'm great, thanks for asking!\n"
          ]
        }
      ]
    },
    {
      "cell_type": "code",
      "source": [
        "import aiml\n",
        "import os\n",
        "\n",
        "# Create the kernel\n",
        "kernel = aiml.Kernel()\n",
        "\n",
        "# Load the AIML file\n",
        "kernel.learn(\"bot.aiml\")\n",
        "\n",
        "# Test the bot\n",
        "response = kernel.respond(\"How are you?\")\n",
        "print(\"Bot:\", response)\n"
      ],
      "metadata": {
        "id": "FnxkM-Oszwb3",
        "outputId": "8bea2948-367a-4588-eda4-b8b7c2fbb9f1",
        "colab": {
          "base_uri": "https://localhost:8080/"
        }
      },
      "execution_count": null,
      "outputs": [
        {
          "output_type": "stream",
          "name": "stdout",
          "text": [
            "Loading bot.aiml...done (0.00 seconds)\n",
            "Bot: I'm good, how about you?\n"
          ]
        }
      ]
    },
    {
      "cell_type": "code",
      "source": [],
      "metadata": {
        "id": "nOElh46zzzEO"
      },
      "execution_count": null,
      "outputs": []
    }
  ]
}