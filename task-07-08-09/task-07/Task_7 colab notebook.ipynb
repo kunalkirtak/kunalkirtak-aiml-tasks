{
  "nbformat": 4,
  "nbformat_minor": 0,
  "metadata": {
    "colab": {
      "provenance": []
    },
    "kernelspec": {
      "name": "python3",
      "display_name": "Python 3"
    },
    "language_info": {
      "name": "python"
    }
  },
  "cells": [
    {
      "cell_type": "code",
      "execution_count": null,
      "metadata": {
        "colab": {
          "base_uri": "https://localhost:8080/"
        },
        "id": "ho0cCJrXE_Cb",
        "outputId": "c80a0fb9-bd57-4d37-f26e-8cf9f098cb5f"
      },
      "outputs": [
        {
          "output_type": "stream",
          "name": "stdout",
          "text": [
            "You: hello\n",
            "Chatbot: Hi, how can I assist you today?\n"
          ]
        }
      ],
      "source": [
        "# Simple chatbot logic in Google Colab\n",
        "def chatbot_response(user_input):\n",
        "    if user_input.lower() == \"hello\":\n",
        "        return \"Hi, how can I assist you today?\"\n",
        "    else:\n",
        "        return \"I'm sorry, I didn't understand that.\"\n",
        "\n",
        "# Input from user\n",
        "user_input = input(\"You: \")\n",
        "response = chatbot_response(user_input)\n",
        "print(\"Chatbot:\", response)\n"
      ]
    },
    {
      "cell_type": "code",
      "source": [],
      "metadata": {
        "id": "H6ImnlSaFF8o"
      },
      "execution_count": null,
      "outputs": []
    }
  ]
}