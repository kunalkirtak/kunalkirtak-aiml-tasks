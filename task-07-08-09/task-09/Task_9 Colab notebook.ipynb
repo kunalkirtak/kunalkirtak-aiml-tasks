{
  "nbformat": 4,
  "nbformat_minor": 0,
  "metadata": {
    "colab": {
      "provenance": []
    },
    "kernelspec": {
      "name": "python3",
      "display_name": "Python 3"
    },
    "language_info": {
      "name": "python"
    }
  },
  "cells": [
    {
      "cell_type": "markdown",
      "source": [
        "# **Task 9**"
      ],
      "metadata": {
        "id": "yBW5pPY1_Bfg"
      }
    },
    {
      "cell_type": "markdown",
      "source": [
        "Create an AIML category that responds to the input \"I'm feeling sad\" with empathetic responses."
      ],
      "metadata": {
        "id": "fRlF4Nd0_GAi"
      }
    },
    {
      "cell_type": "code",
      "execution_count": null,
      "metadata": {
        "colab": {
          "base_uri": "https://localhost:8080/"
        },
        "id": "CsYzilPp-63N",
        "outputId": "ac32b481-16f2-462e-a0d8-9b8bcad077db"
      },
      "outputs": [
        {
          "output_type": "stream",
          "name": "stdout",
          "text": [
            "Collecting python-aiml\n",
            "  Downloading python-aiml-0.9.3.zip (2.1 MB)\n",
            "\u001b[?25l     \u001b[90m━━━━━━━━━━━━━━━━━━━━━━━━━━━━━━━━━━━━━━━━\u001b[0m \u001b[32m0.0/2.1 MB\u001b[0m \u001b[31m?\u001b[0m eta \u001b[36m-:--:--\u001b[0m\r\u001b[2K     \u001b[91m━━━━━━━━━━━━━━━━━━━━━━━━━━━━━━━━━━━━━━━\u001b[0m\u001b[91m╸\u001b[0m \u001b[32m2.1/2.1 MB\u001b[0m \u001b[31m107.0 MB/s\u001b[0m eta \u001b[36m0:00:01\u001b[0m\r\u001b[2K     \u001b[90m━━━━━━━━━━━━━━━━━━━━━━━━━━━━━━━━━━━━━━━━\u001b[0m \u001b[32m2.1/2.1 MB\u001b[0m \u001b[31m48.0 MB/s\u001b[0m eta \u001b[36m0:00:00\u001b[0m\n",
            "\u001b[?25h  Preparing metadata (setup.py) ... \u001b[?25l\u001b[?25hdone\n",
            "Requirement already satisfied: setuptools in /usr/local/lib/python3.11/dist-packages (from python-aiml) (75.2.0)\n",
            "Building wheels for collected packages: python-aiml\n",
            "  Building wheel for python-aiml (setup.py) ... \u001b[?25l\u001b[?25hdone\n",
            "  Created wheel for python-aiml: filename=python_aiml-0.9.3-py3-none-any.whl size=2122485 sha256=23984fa1ff911af1ca4e72550c567be29cacfc052c4bcf59e5e1b44c9714e29d\n",
            "  Stored in directory: /root/.cache/pip/wheels/de/c3/2d/d1b50ad20fde9a9741b27fb7816c0e67d4254048a6c592a84e\n",
            "Successfully built python-aiml\n",
            "Installing collected packages: python-aiml\n",
            "Successfully installed python-aiml-0.9.3\n"
          ]
        }
      ],
      "source": [
        "!pip install python-aiml\n"
      ]
    },
    {
      "cell_type": "code",
      "source": [
        "# Update AIML with improved patterns\n",
        "aiml_content = \"\"\"\n",
        "<aiml version=\"1.0.1\" encoding=\"UTF-8\">\n",
        "  <category>\n",
        "    <pattern>I'M FEELING SAD</pattern>\n",
        "    <template>\n",
        "      I'm really sorry to hear that. You're not alone — do you want to talk about it?\n",
        "    </template>\n",
        "  </category>\n",
        "\n",
        "  <category>\n",
        "    <pattern>I AM FEELING SAD</pattern>\n",
        "    <template>\n",
        "      I'm really sorry to hear that. You're not alone — do you want to talk about it?\n",
        "    </template>\n",
        "  </category>\n",
        "\n",
        "  <category>\n",
        "    <pattern>I FEEL SAD</pattern>\n",
        "    <template>\n",
        "      It's okay to feel sad sometimes. I'm here for you. Would you like some encouragement?\n",
        "    </template>\n",
        "  </category>\n",
        "\n",
        "  <category>\n",
        "    <pattern>* FEELING SAD *</pattern>\n",
        "    <template>\n",
        "      That sounds tough. I'm here to listen if you want to share more.\n",
        "    </template>\n",
        "  </category>\n",
        "</aiml>\n",
        "\"\"\"\n",
        "\n",
        "# Save the AIML content to the file again\n",
        "with open(\"sad_response.aiml\", \"w\") as file:\n",
        "    file.write(aiml_content)\n"
      ],
      "metadata": {
        "id": "SOT7VIxX_LjY"
      },
      "execution_count": null,
      "outputs": []
    },
    {
      "cell_type": "code",
      "source": [
        "import aiml\n",
        "\n",
        "# Recreate and reload the kernel\n",
        "kernel = aiml.Kernel()\n",
        "kernel.learn(\"sad_response.aiml\")\n",
        "\n",
        "# Test with user input\n",
        "user_input = \"I'm feeling sad\"\n",
        "response = kernel.respond(user_input.upper())\n",
        "print(\"Bot:\", response)\n"
      ],
      "metadata": {
        "colab": {
          "base_uri": "https://localhost:8080/"
        },
        "id": "3rtXc4qW_S94",
        "outputId": "b5d39379-415a-4b94-bbd6-7b69d7f1bf7b"
      },
      "execution_count": null,
      "outputs": [
        {
          "output_type": "stream",
          "name": "stdout",
          "text": [
            "Loading sad_response.aiml...done (0.00 seconds)\n",
            "Bot: I'm really sorry to hear that. You're not alone — do you want to talk about it?\n"
          ]
        }
      ]
    },
    {
      "cell_type": "code",
      "source": [],
      "metadata": {
        "id": "W8eq8Qpf_U2u"
      },
      "execution_count": null,
      "outputs": []
    }
  ]
}